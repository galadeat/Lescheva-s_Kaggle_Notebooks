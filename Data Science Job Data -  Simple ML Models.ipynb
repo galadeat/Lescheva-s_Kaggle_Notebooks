{
 "cells": [
  {
   "cell_type": "markdown",
   "id": "aa87c6aa",
   "metadata": {
    "papermill": {
     "duration": 0.006827,
     "end_time": "2025-02-13T19:34:46.997511",
     "exception": false,
     "start_time": "2025-02-13T19:34:46.990684",
     "status": "completed"
    },
    "tags": []
   },
   "source": [
    "The aim of this notebook is to compare two simple ML models: Linear Regression and Decision Tree Regression"
   ]
  },
  {
   "cell_type": "markdown",
   "id": "197956fa",
   "metadata": {
    "papermill": {
     "duration": 0.005803,
     "end_time": "2025-02-13T19:34:47.009678",
     "exception": false,
     "start_time": "2025-02-13T19:34:47.003875",
     "status": "completed"
    },
    "tags": []
   },
   "source": [
    "#  Quick look at the Data Structure"
   ]
  },
  {
   "cell_type": "code",
   "execution_count": 1,
   "id": "8be1257f",
   "metadata": {
    "execution": {
     "iopub.execute_input": "2025-02-13T19:34:47.023294Z",
     "iopub.status.busy": "2025-02-13T19:34:47.022882Z",
     "iopub.status.idle": "2025-02-13T19:34:47.943883Z",
     "shell.execute_reply": "2025-02-13T19:34:47.942806Z"
    },
    "papermill": {
     "duration": 0.929865,
     "end_time": "2025-02-13T19:34:47.945562",
     "exception": false,
     "start_time": "2025-02-13T19:34:47.015697",
     "status": "completed"
    },
    "tags": []
   },
   "outputs": [
    {
     "data": {
      "text/html": [
       "<div>\n",
       "<style scoped>\n",
       "    .dataframe tbody tr th:only-of-type {\n",
       "        vertical-align: middle;\n",
       "    }\n",
       "\n",
       "    .dataframe tbody tr th {\n",
       "        vertical-align: top;\n",
       "    }\n",
       "\n",
       "    .dataframe thead th {\n",
       "        text-align: right;\n",
       "    }\n",
       "</style>\n",
       "<table border=\"1\" class=\"dataframe\">\n",
       "  <thead>\n",
       "    <tr style=\"text-align: right;\">\n",
       "      <th></th>\n",
       "      <th>enrollee_id</th>\n",
       "      <th>city</th>\n",
       "      <th>city_development_index</th>\n",
       "      <th>gender</th>\n",
       "      <th>relevent_experience</th>\n",
       "      <th>enrolled_university</th>\n",
       "      <th>education_level</th>\n",
       "      <th>major_discipline</th>\n",
       "      <th>experience</th>\n",
       "      <th>company_size</th>\n",
       "      <th>company_type</th>\n",
       "      <th>training_hours</th>\n",
       "      <th>target</th>\n",
       "    </tr>\n",
       "  </thead>\n",
       "  <tbody>\n",
       "    <tr>\n",
       "      <th>0</th>\n",
       "      <td>8949</td>\n",
       "      <td>city_103</td>\n",
       "      <td>0.920</td>\n",
       "      <td>Male</td>\n",
       "      <td>Has relevent experience</td>\n",
       "      <td>no_enrollment</td>\n",
       "      <td>Graduate</td>\n",
       "      <td>STEM</td>\n",
       "      <td>20.0</td>\n",
       "      <td>NaN</td>\n",
       "      <td>NaN</td>\n",
       "      <td>36.0</td>\n",
       "      <td>1.0</td>\n",
       "    </tr>\n",
       "    <tr>\n",
       "      <th>1</th>\n",
       "      <td>29725</td>\n",
       "      <td>city_40</td>\n",
       "      <td>0.776</td>\n",
       "      <td>Male</td>\n",
       "      <td>No relevent experience</td>\n",
       "      <td>no_enrollment</td>\n",
       "      <td>Graduate</td>\n",
       "      <td>STEM</td>\n",
       "      <td>15.0</td>\n",
       "      <td>50-99</td>\n",
       "      <td>Pvt Ltd</td>\n",
       "      <td>47.0</td>\n",
       "      <td>0.0</td>\n",
       "    </tr>\n",
       "    <tr>\n",
       "      <th>2</th>\n",
       "      <td>11561</td>\n",
       "      <td>city_21</td>\n",
       "      <td>0.624</td>\n",
       "      <td>NaN</td>\n",
       "      <td>No relevent experience</td>\n",
       "      <td>Full time course</td>\n",
       "      <td>Graduate</td>\n",
       "      <td>STEM</td>\n",
       "      <td>5.0</td>\n",
       "      <td>NaN</td>\n",
       "      <td>NaN</td>\n",
       "      <td>83.0</td>\n",
       "      <td>0.0</td>\n",
       "    </tr>\n",
       "    <tr>\n",
       "      <th>3</th>\n",
       "      <td>33241</td>\n",
       "      <td>city_115</td>\n",
       "      <td>0.789</td>\n",
       "      <td>NaN</td>\n",
       "      <td>No relevent experience</td>\n",
       "      <td>NaN</td>\n",
       "      <td>Graduate</td>\n",
       "      <td>Business Degree</td>\n",
       "      <td>0.0</td>\n",
       "      <td>NaN</td>\n",
       "      <td>Pvt Ltd</td>\n",
       "      <td>52.0</td>\n",
       "      <td>1.0</td>\n",
       "    </tr>\n",
       "    <tr>\n",
       "      <th>4</th>\n",
       "      <td>666</td>\n",
       "      <td>city_162</td>\n",
       "      <td>0.767</td>\n",
       "      <td>Male</td>\n",
       "      <td>Has relevent experience</td>\n",
       "      <td>no_enrollment</td>\n",
       "      <td>Masters</td>\n",
       "      <td>STEM</td>\n",
       "      <td>20.0</td>\n",
       "      <td>50-99</td>\n",
       "      <td>Funded Startup</td>\n",
       "      <td>8.0</td>\n",
       "      <td>0.0</td>\n",
       "    </tr>\n",
       "  </tbody>\n",
       "</table>\n",
       "</div>"
      ],
      "text/plain": [
       "   enrollee_id      city  city_development_index gender  \\\n",
       "0         8949  city_103                   0.920   Male   \n",
       "1        29725   city_40                   0.776   Male   \n",
       "2        11561   city_21                   0.624    NaN   \n",
       "3        33241  city_115                   0.789    NaN   \n",
       "4          666  city_162                   0.767   Male   \n",
       "\n",
       "       relevent_experience enrolled_university education_level  \\\n",
       "0  Has relevent experience       no_enrollment        Graduate   \n",
       "1   No relevent experience       no_enrollment        Graduate   \n",
       "2   No relevent experience    Full time course        Graduate   \n",
       "3   No relevent experience                 NaN        Graduate   \n",
       "4  Has relevent experience       no_enrollment         Masters   \n",
       "\n",
       "  major_discipline  experience company_size    company_type  training_hours  \\\n",
       "0             STEM        20.0          NaN             NaN            36.0   \n",
       "1             STEM        15.0        50-99         Pvt Ltd            47.0   \n",
       "2             STEM         5.0          NaN             NaN            83.0   \n",
       "3  Business Degree         0.0          NaN         Pvt Ltd            52.0   \n",
       "4             STEM        20.0        50-99  Funded Startup             8.0   \n",
       "\n",
       "   target  \n",
       "0     1.0  \n",
       "1     0.0  \n",
       "2     0.0  \n",
       "3     1.0  \n",
       "4     0.0  "
      ]
     },
     "execution_count": 1,
     "metadata": {},
     "output_type": "execute_result"
    }
   ],
   "source": [
    "import numpy as np \n",
    "import pandas as pd \n",
    "job_data = pd.read_csv(\"/kaggle/input/datascience-job-data/data_science_job.csv\")\n",
    "job_data.head()"
   ]
  },
  {
   "cell_type": "code",
   "execution_count": 2,
   "id": "2e16f481",
   "metadata": {
    "execution": {
     "iopub.execute_input": "2025-02-13T19:34:47.959535Z",
     "iopub.status.busy": "2025-02-13T19:34:47.959186Z",
     "iopub.status.idle": "2025-02-13T19:34:47.990929Z",
     "shell.execute_reply": "2025-02-13T19:34:47.989643Z"
    },
    "papermill": {
     "duration": 0.040442,
     "end_time": "2025-02-13T19:34:47.992590",
     "exception": false,
     "start_time": "2025-02-13T19:34:47.952148",
     "status": "completed"
    },
    "tags": []
   },
   "outputs": [
    {
     "name": "stdout",
     "output_type": "stream",
     "text": [
      "<class 'pandas.core.frame.DataFrame'>\n",
      "RangeIndex: 19158 entries, 0 to 19157\n",
      "Data columns (total 13 columns):\n",
      " #   Column                  Non-Null Count  Dtype  \n",
      "---  ------                  --------------  -----  \n",
      " 0   enrollee_id             19158 non-null  int64  \n",
      " 1   city                    19158 non-null  object \n",
      " 2   city_development_index  18679 non-null  float64\n",
      " 3   gender                  14650 non-null  object \n",
      " 4   relevent_experience     19158 non-null  object \n",
      " 5   enrolled_university     18772 non-null  object \n",
      " 6   education_level         18698 non-null  object \n",
      " 7   major_discipline        16345 non-null  object \n",
      " 8   experience              19093 non-null  float64\n",
      " 9   company_size            13220 non-null  object \n",
      " 10  company_type            13018 non-null  object \n",
      " 11  training_hours          18392 non-null  float64\n",
      " 12  target                  19158 non-null  float64\n",
      "dtypes: float64(4), int64(1), object(8)\n",
      "memory usage: 1.9+ MB\n"
     ]
    }
   ],
   "source": [
    "job_data.info()"
   ]
  },
  {
   "cell_type": "code",
   "execution_count": 3,
   "id": "acb66ae9",
   "metadata": {
    "execution": {
     "iopub.execute_input": "2025-02-13T19:34:48.006343Z",
     "iopub.status.busy": "2025-02-13T19:34:48.006032Z",
     "iopub.status.idle": "2025-02-13T19:34:48.021153Z",
     "shell.execute_reply": "2025-02-13T19:34:48.020290Z"
    },
    "papermill": {
     "duration": 0.023657,
     "end_time": "2025-02-13T19:34:48.022662",
     "exception": false,
     "start_time": "2025-02-13T19:34:47.999005",
     "status": "completed"
    },
    "tags": []
   },
   "outputs": [
    {
     "data": {
      "text/plain": [
       "company_type              0.320493\n",
       "company_size              0.309949\n",
       "gender                    0.235306\n",
       "major_discipline          0.146832\n",
       "training_hours            0.039983\n",
       "city_development_index    0.025003\n",
       "education_level           0.024011\n",
       "enrolled_university       0.020148\n",
       "experience                0.003393\n",
       "enrollee_id               0.000000\n",
       "city                      0.000000\n",
       "relevent_experience       0.000000\n",
       "target                    0.000000\n",
       "dtype: float64"
      ]
     },
     "execution_count": 3,
     "metadata": {},
     "output_type": "execute_result"
    }
   ],
   "source": [
    "job_data.isnull().sum().sort_values(ascending=False) / len(job_data)"
   ]
  },
  {
   "cell_type": "markdown",
   "id": "3f181c5f",
   "metadata": {
    "papermill": {
     "duration": 0.006218,
     "end_time": "2025-02-13T19:34:48.035346",
     "exception": false,
     "start_time": "2025-02-13T19:34:48.029128",
     "status": "completed"
    },
    "tags": []
   },
   "source": [
    "# Data Preparation"
   ]
  },
  {
   "cell_type": "code",
   "execution_count": 4,
   "id": "6649893a",
   "metadata": {
    "execution": {
     "iopub.execute_input": "2025-02-13T19:34:48.048647Z",
     "iopub.status.busy": "2025-02-13T19:34:48.048298Z",
     "iopub.status.idle": "2025-02-13T19:34:48.055458Z",
     "shell.execute_reply": "2025-02-13T19:34:48.054726Z"
    },
    "papermill": {
     "duration": 0.015299,
     "end_time": "2025-02-13T19:34:48.056829",
     "exception": false,
     "start_time": "2025-02-13T19:34:48.041530",
     "status": "completed"
    },
    "tags": []
   },
   "outputs": [],
   "source": [
    "job_data = job_data.drop([\"company_type\", \"company_size\", \"gender\"], axis=1)"
   ]
  },
  {
   "cell_type": "code",
   "execution_count": 5,
   "id": "fb294e1e",
   "metadata": {
    "execution": {
     "iopub.execute_input": "2025-02-13T19:34:48.071540Z",
     "iopub.status.busy": "2025-02-13T19:34:48.071202Z",
     "iopub.status.idle": "2025-02-13T19:34:48.080880Z",
     "shell.execute_reply": "2025-02-13T19:34:48.080135Z"
    },
    "papermill": {
     "duration": 0.01817,
     "end_time": "2025-02-13T19:34:48.082347",
     "exception": false,
     "start_time": "2025-02-13T19:34:48.064177",
     "status": "completed"
    },
    "tags": []
   },
   "outputs": [],
   "source": [
    "na_columns = [\"major_discipline\", \"training_hours\", \"city_development_index\", \"education_level\", \"enrolled_university\", \"experience\"]\n",
    "job_data = job_data.dropna(subset=na_columns)"
   ]
  },
  {
   "cell_type": "code",
   "execution_count": 6,
   "id": "614c2b80",
   "metadata": {
    "execution": {
     "iopub.execute_input": "2025-02-13T19:34:48.096166Z",
     "iopub.status.busy": "2025-02-13T19:34:48.095886Z",
     "iopub.status.idle": "2025-02-13T19:34:48.107131Z",
     "shell.execute_reply": "2025-02-13T19:34:48.106246Z"
    },
    "papermill": {
     "duration": 0.019844,
     "end_time": "2025-02-13T19:34:48.108646",
     "exception": false,
     "start_time": "2025-02-13T19:34:48.088802",
     "status": "completed"
    },
    "tags": []
   },
   "outputs": [
    {
     "data": {
      "text/plain": [
       "enrollee_id               0.0\n",
       "city                      0.0\n",
       "city_development_index    0.0\n",
       "relevent_experience       0.0\n",
       "enrolled_university       0.0\n",
       "education_level           0.0\n",
       "major_discipline          0.0\n",
       "experience                0.0\n",
       "training_hours            0.0\n",
       "target                    0.0\n",
       "dtype: float64"
      ]
     },
     "execution_count": 6,
     "metadata": {},
     "output_type": "execute_result"
    }
   ],
   "source": [
    "job_data.isnull().sum().sort_values(ascending=False) / len(job_data)"
   ]
  },
  {
   "cell_type": "code",
   "execution_count": 7,
   "id": "081159de",
   "metadata": {
    "execution": {
     "iopub.execute_input": "2025-02-13T19:34:48.122642Z",
     "iopub.status.busy": "2025-02-13T19:34:48.122279Z",
     "iopub.status.idle": "2025-02-13T19:34:48.129625Z",
     "shell.execute_reply": "2025-02-13T19:34:48.128793Z"
    },
    "papermill": {
     "duration": 0.015866,
     "end_time": "2025-02-13T19:34:48.131067",
     "exception": false,
     "start_time": "2025-02-13T19:34:48.115201",
     "status": "completed"
    },
    "tags": []
   },
   "outputs": [
    {
     "data": {
      "text/plain": [
       "relevent_experience\n",
       "Has relevent experience    11717\n",
       "No relevent experience      3312\n",
       "Name: count, dtype: int64"
      ]
     },
     "execution_count": 7,
     "metadata": {},
     "output_type": "execute_result"
    }
   ],
   "source": [
    "job_data[\"relevent_experience\"].value_counts()"
   ]
  },
  {
   "cell_type": "code",
   "execution_count": 8,
   "id": "e70d0fce",
   "metadata": {
    "execution": {
     "iopub.execute_input": "2025-02-13T19:34:48.145255Z",
     "iopub.status.busy": "2025-02-13T19:34:48.144933Z",
     "iopub.status.idle": "2025-02-13T19:34:48.155677Z",
     "shell.execute_reply": "2025-02-13T19:34:48.154680Z"
    },
    "papermill": {
     "duration": 0.019485,
     "end_time": "2025-02-13T19:34:48.157273",
     "exception": false,
     "start_time": "2025-02-13T19:34:48.137788",
     "status": "completed"
    },
    "tags": []
   },
   "outputs": [],
   "source": [
    "job_data[\"relevent_experience\"] = job_data[\"relevent_experience\"].map(lambda p: 1 if p == \"Has relevent experience\" else 0)"
   ]
  },
  {
   "cell_type": "code",
   "execution_count": 9,
   "id": "92b37ff0",
   "metadata": {
    "execution": {
     "iopub.execute_input": "2025-02-13T19:34:48.172146Z",
     "iopub.status.busy": "2025-02-13T19:34:48.171814Z",
     "iopub.status.idle": "2025-02-13T19:34:48.177894Z",
     "shell.execute_reply": "2025-02-13T19:34:48.176903Z"
    },
    "papermill": {
     "duration": 0.015288,
     "end_time": "2025-02-13T19:34:48.179401",
     "exception": false,
     "start_time": "2025-02-13T19:34:48.164113",
     "status": "completed"
    },
    "tags": []
   },
   "outputs": [],
   "source": [
    "bool_col = [\"relevent_experience\", \"target\"]\n",
    "job_data[bool_col] = job_data[bool_col].astype('bool')"
   ]
  },
  {
   "cell_type": "code",
   "execution_count": 10,
   "id": "ba30dc3b",
   "metadata": {
    "execution": {
     "iopub.execute_input": "2025-02-13T19:34:48.194424Z",
     "iopub.status.busy": "2025-02-13T19:34:48.194062Z",
     "iopub.status.idle": "2025-02-13T19:34:48.208988Z",
     "shell.execute_reply": "2025-02-13T19:34:48.207881Z"
    },
    "papermill": {
     "duration": 0.024495,
     "end_time": "2025-02-13T19:34:48.210511",
     "exception": false,
     "start_time": "2025-02-13T19:34:48.186016",
     "status": "completed"
    },
    "tags": []
   },
   "outputs": [
    {
     "name": "stdout",
     "output_type": "stream",
     "text": [
      "<class 'pandas.core.frame.DataFrame'>\n",
      "Index: 15029 entries, 0 to 19155\n",
      "Data columns (total 10 columns):\n",
      " #   Column                  Non-Null Count  Dtype  \n",
      "---  ------                  --------------  -----  \n",
      " 0   enrollee_id             15029 non-null  int64  \n",
      " 1   city                    15029 non-null  object \n",
      " 2   city_development_index  15029 non-null  float64\n",
      " 3   relevent_experience     15029 non-null  bool   \n",
      " 4   enrolled_university     15029 non-null  object \n",
      " 5   education_level         15029 non-null  object \n",
      " 6   major_discipline        15029 non-null  object \n",
      " 7   experience              15029 non-null  float64\n",
      " 8   training_hours          15029 non-null  float64\n",
      " 9   target                  15029 non-null  bool   \n",
      "dtypes: bool(2), float64(3), int64(1), object(4)\n",
      "memory usage: 1.1+ MB\n"
     ]
    }
   ],
   "source": [
    "job_data.info()"
   ]
  },
  {
   "cell_type": "markdown",
   "id": "a1257338",
   "metadata": {
    "papermill": {
     "duration": 0.006403,
     "end_time": "2025-02-13T19:34:48.223848",
     "exception": false,
     "start_time": "2025-02-13T19:34:48.217445",
     "status": "completed"
    },
    "tags": []
   },
   "source": [
    "# Discovering Data"
   ]
  },
  {
   "cell_type": "code",
   "execution_count": 11,
   "id": "43fa146c",
   "metadata": {
    "execution": {
     "iopub.execute_input": "2025-02-13T19:34:48.238293Z",
     "iopub.status.busy": "2025-02-13T19:34:48.237970Z",
     "iopub.status.idle": "2025-02-13T19:34:48.248801Z",
     "shell.execute_reply": "2025-02-13T19:34:48.247815Z"
    },
    "papermill": {
     "duration": 0.019988,
     "end_time": "2025-02-13T19:34:48.250408",
     "exception": false,
     "start_time": "2025-02-13T19:34:48.230420",
     "status": "completed"
    },
    "tags": []
   },
   "outputs": [],
   "source": [
    "object_col = job_data.select_dtypes(include=[\"object\"]).columns\n",
    "job_num = job_data.drop(object_col, axis=1)\n",
    "corr_matrix = job_num.corr()"
   ]
  },
  {
   "cell_type": "code",
   "execution_count": 12,
   "id": "bf175d57",
   "metadata": {
    "execution": {
     "iopub.execute_input": "2025-02-13T19:34:48.264919Z",
     "iopub.status.busy": "2025-02-13T19:34:48.264577Z",
     "iopub.status.idle": "2025-02-13T19:34:48.271330Z",
     "shell.execute_reply": "2025-02-13T19:34:48.270516Z"
    },
    "papermill": {
     "duration": 0.015644,
     "end_time": "2025-02-13T19:34:48.272841",
     "exception": false,
     "start_time": "2025-02-13T19:34:48.257197",
     "status": "completed"
    },
    "tags": []
   },
   "outputs": [
    {
     "data": {
      "text/plain": [
       "target                    1.000000\n",
       "enrollee_id               0.046335\n",
       "training_hours           -0.025512\n",
       "relevent_experience      -0.168891\n",
       "experience               -0.209390\n",
       "city_development_index   -0.336429\n",
       "Name: target, dtype: float64"
      ]
     },
     "execution_count": 12,
     "metadata": {},
     "output_type": "execute_result"
    }
   ],
   "source": [
    "corr_matrix[\"target\"].sort_values(ascending=False)"
   ]
  },
  {
   "cell_type": "markdown",
   "id": "da789346",
   "metadata": {
    "papermill": {
     "duration": 0.006479,
     "end_time": "2025-02-13T19:34:48.286641",
     "exception": false,
     "start_time": "2025-02-13T19:34:48.280162",
     "status": "completed"
    },
    "tags": []
   },
   "source": [
    "# Create a Test Set and Data Transforming"
   ]
  },
  {
   "cell_type": "code",
   "execution_count": 13,
   "id": "6c52b2cb",
   "metadata": {
    "execution": {
     "iopub.execute_input": "2025-02-13T19:34:48.301106Z",
     "iopub.status.busy": "2025-02-13T19:34:48.300785Z",
     "iopub.status.idle": "2025-02-13T19:34:49.588833Z",
     "shell.execute_reply": "2025-02-13T19:34:49.587795Z"
    },
    "papermill": {
     "duration": 1.297466,
     "end_time": "2025-02-13T19:34:49.590695",
     "exception": false,
     "start_time": "2025-02-13T19:34:48.293229",
     "status": "completed"
    },
    "tags": []
   },
   "outputs": [],
   "source": [
    "from sklearn.model_selection import train_test_split\n",
    "\n",
    "train_set, test_set = train_test_split(job_data, test_size=0.2, random_state=42)"
   ]
  },
  {
   "cell_type": "code",
   "execution_count": 14,
   "id": "709d18c5",
   "metadata": {
    "execution": {
     "iopub.execute_input": "2025-02-13T19:34:49.605799Z",
     "iopub.status.busy": "2025-02-13T19:34:49.605291Z",
     "iopub.status.idle": "2025-02-13T19:34:49.612257Z",
     "shell.execute_reply": "2025-02-13T19:34:49.611308Z"
    },
    "papermill": {
     "duration": 0.016309,
     "end_time": "2025-02-13T19:34:49.614037",
     "exception": false,
     "start_time": "2025-02-13T19:34:49.597728",
     "status": "completed"
    },
    "tags": []
   },
   "outputs": [],
   "source": [
    "job_data = train_set.drop(\"target\", axis=1)\n",
    "job_labels = train_set[\"target\"].copy()"
   ]
  },
  {
   "cell_type": "code",
   "execution_count": 15,
   "id": "505a82e7",
   "metadata": {
    "execution": {
     "iopub.execute_input": "2025-02-13T19:34:49.628629Z",
     "iopub.status.busy": "2025-02-13T19:34:49.628287Z",
     "iopub.status.idle": "2025-02-13T19:34:49.699151Z",
     "shell.execute_reply": "2025-02-13T19:34:49.698236Z"
    },
    "papermill": {
     "duration": 0.080058,
     "end_time": "2025-02-13T19:34:49.700977",
     "exception": false,
     "start_time": "2025-02-13T19:34:49.620919",
     "status": "completed"
    },
    "tags": []
   },
   "outputs": [],
   "source": [
    "from sklearn.preprocessing import OneHotEncoder, StandardScaler\n",
    "from sklearn.pipeline import Pipeline\n",
    "from sklearn.compose import ColumnTransformer\n",
    "\n",
    "num_attribs = job_data.select_dtypes(exclude=[\"object\"]).columns\n",
    "cat_attribs = job_data.select_dtypes(include=[\"object\"]).columns\n",
    "pipeline = ColumnTransformer([(\"num\", Pipeline([(\"std\", StandardScaler())]), num_attribs), (\"cat\", OneHotEncoder(), cat_attribs)])\n",
    "job_data_prepared = pipeline.fit_transform(job_data)"
   ]
  },
  {
   "cell_type": "markdown",
   "id": "ea32d55a",
   "metadata": {
    "papermill": {
     "duration": 0.006654,
     "end_time": "2025-02-13T19:34:49.714885",
     "exception": false,
     "start_time": "2025-02-13T19:34:49.708231",
     "status": "completed"
    },
    "tags": []
   },
   "source": [
    "# Model Training"
   ]
  },
  {
   "cell_type": "markdown",
   "id": "eaacace2",
   "metadata": {
    "papermill": {
     "duration": 0.006307,
     "end_time": "2025-02-13T19:34:49.727921",
     "exception": false,
     "start_time": "2025-02-13T19:34:49.721614",
     "status": "completed"
    },
    "tags": []
   },
   "source": [
    "## Linear Regression"
   ]
  },
  {
   "cell_type": "code",
   "execution_count": 16,
   "id": "d5cd1113",
   "metadata": {
    "execution": {
     "iopub.execute_input": "2025-02-13T19:34:49.742581Z",
     "iopub.status.busy": "2025-02-13T19:34:49.742212Z",
     "iopub.status.idle": "2025-02-13T19:34:49.903420Z",
     "shell.execute_reply": "2025-02-13T19:34:49.902417Z"
    },
    "papermill": {
     "duration": 0.170478,
     "end_time": "2025-02-13T19:34:49.905119",
     "exception": false,
     "start_time": "2025-02-13T19:34:49.734641",
     "status": "completed"
    },
    "tags": []
   },
   "outputs": [
    {
     "data": {
      "text/html": [
       "<style>#sk-container-id-1 {color: black;background-color: white;}#sk-container-id-1 pre{padding: 0;}#sk-container-id-1 div.sk-toggleable {background-color: white;}#sk-container-id-1 label.sk-toggleable__label {cursor: pointer;display: block;width: 100%;margin-bottom: 0;padding: 0.3em;box-sizing: border-box;text-align: center;}#sk-container-id-1 label.sk-toggleable__label-arrow:before {content: \"▸\";float: left;margin-right: 0.25em;color: #696969;}#sk-container-id-1 label.sk-toggleable__label-arrow:hover:before {color: black;}#sk-container-id-1 div.sk-estimator:hover label.sk-toggleable__label-arrow:before {color: black;}#sk-container-id-1 div.sk-toggleable__content {max-height: 0;max-width: 0;overflow: hidden;text-align: left;background-color: #f0f8ff;}#sk-container-id-1 div.sk-toggleable__content pre {margin: 0.2em;color: black;border-radius: 0.25em;background-color: #f0f8ff;}#sk-container-id-1 input.sk-toggleable__control:checked~div.sk-toggleable__content {max-height: 200px;max-width: 100%;overflow: auto;}#sk-container-id-1 input.sk-toggleable__control:checked~label.sk-toggleable__label-arrow:before {content: \"▾\";}#sk-container-id-1 div.sk-estimator input.sk-toggleable__control:checked~label.sk-toggleable__label {background-color: #d4ebff;}#sk-container-id-1 div.sk-label input.sk-toggleable__control:checked~label.sk-toggleable__label {background-color: #d4ebff;}#sk-container-id-1 input.sk-hidden--visually {border: 0;clip: rect(1px 1px 1px 1px);clip: rect(1px, 1px, 1px, 1px);height: 1px;margin: -1px;overflow: hidden;padding: 0;position: absolute;width: 1px;}#sk-container-id-1 div.sk-estimator {font-family: monospace;background-color: #f0f8ff;border: 1px dotted black;border-radius: 0.25em;box-sizing: border-box;margin-bottom: 0.5em;}#sk-container-id-1 div.sk-estimator:hover {background-color: #d4ebff;}#sk-container-id-1 div.sk-parallel-item::after {content: \"\";width: 100%;border-bottom: 1px solid gray;flex-grow: 1;}#sk-container-id-1 div.sk-label:hover label.sk-toggleable__label {background-color: #d4ebff;}#sk-container-id-1 div.sk-serial::before {content: \"\";position: absolute;border-left: 1px solid gray;box-sizing: border-box;top: 0;bottom: 0;left: 50%;z-index: 0;}#sk-container-id-1 div.sk-serial {display: flex;flex-direction: column;align-items: center;background-color: white;padding-right: 0.2em;padding-left: 0.2em;position: relative;}#sk-container-id-1 div.sk-item {position: relative;z-index: 1;}#sk-container-id-1 div.sk-parallel {display: flex;align-items: stretch;justify-content: center;background-color: white;position: relative;}#sk-container-id-1 div.sk-item::before, #sk-container-id-1 div.sk-parallel-item::before {content: \"\";position: absolute;border-left: 1px solid gray;box-sizing: border-box;top: 0;bottom: 0;left: 50%;z-index: -1;}#sk-container-id-1 div.sk-parallel-item {display: flex;flex-direction: column;z-index: 1;position: relative;background-color: white;}#sk-container-id-1 div.sk-parallel-item:first-child::after {align-self: flex-end;width: 50%;}#sk-container-id-1 div.sk-parallel-item:last-child::after {align-self: flex-start;width: 50%;}#sk-container-id-1 div.sk-parallel-item:only-child::after {width: 0;}#sk-container-id-1 div.sk-dashed-wrapped {border: 1px dashed gray;margin: 0 0.4em 0.5em 0.4em;box-sizing: border-box;padding-bottom: 0.4em;background-color: white;}#sk-container-id-1 div.sk-label label {font-family: monospace;font-weight: bold;display: inline-block;line-height: 1.2em;}#sk-container-id-1 div.sk-label-container {text-align: center;}#sk-container-id-1 div.sk-container {/* jupyter's `normalize.less` sets `[hidden] { display: none; }` but bootstrap.min.css set `[hidden] { display: none !important; }` so we also need the `!important` here to be able to override the default hidden behavior on the sphinx rendered scikit-learn.org. See: https://github.com/scikit-learn/scikit-learn/issues/21755 */display: inline-block !important;position: relative;}#sk-container-id-1 div.sk-text-repr-fallback {display: none;}</style><div id=\"sk-container-id-1\" class=\"sk-top-container\"><div class=\"sk-text-repr-fallback\"><pre>LinearRegression()</pre><b>In a Jupyter environment, please rerun this cell to show the HTML representation or trust the notebook. <br />On GitHub, the HTML representation is unable to render, please try loading this page with nbviewer.org.</b></div><div class=\"sk-container\" hidden><div class=\"sk-item\"><div class=\"sk-estimator sk-toggleable\"><input class=\"sk-toggleable__control sk-hidden--visually\" id=\"sk-estimator-id-1\" type=\"checkbox\" checked><label for=\"sk-estimator-id-1\" class=\"sk-toggleable__label sk-toggleable__label-arrow\">LinearRegression</label><div class=\"sk-toggleable__content\"><pre>LinearRegression()</pre></div></div></div></div></div>"
      ],
      "text/plain": [
       "LinearRegression()"
      ]
     },
     "execution_count": 16,
     "metadata": {},
     "output_type": "execute_result"
    }
   ],
   "source": [
    "from sklearn.linear_model import LinearRegression\n",
    "\n",
    "lin_reg = LinearRegression()\n",
    "lin_reg.fit(job_data_prepared, job_labels)"
   ]
  },
  {
   "cell_type": "code",
   "execution_count": 17,
   "id": "050a5d85",
   "metadata": {
    "execution": {
     "iopub.execute_input": "2025-02-13T19:34:49.920715Z",
     "iopub.status.busy": "2025-02-13T19:34:49.920342Z",
     "iopub.status.idle": "2025-02-13T19:34:49.932625Z",
     "shell.execute_reply": "2025-02-13T19:34:49.931561Z"
    },
    "papermill": {
     "duration": 0.021844,
     "end_time": "2025-02-13T19:34:49.934132",
     "exception": false,
     "start_time": "2025-02-13T19:34:49.912288",
     "status": "completed"
    },
    "tags": []
   },
   "outputs": [
    {
     "name": "stdout",
     "output_type": "stream",
     "text": [
      "Predictions:  [0.22554823 0.62614302 0.15805625 0.15649843 0.10434165]\n"
     ]
    }
   ],
   "source": [
    "some_data = job_data.iloc[:5]\n",
    "some_labels = job_labels.iloc[:5]\n",
    "some_data_prepared = pipeline.transform(some_data)\n",
    "print(\"Predictions: \", lin_reg.predict(some_data_prepared))"
   ]
  },
  {
   "cell_type": "code",
   "execution_count": 18,
   "id": "8115ffb0",
   "metadata": {
    "execution": {
     "iopub.execute_input": "2025-02-13T19:34:49.949830Z",
     "iopub.status.busy": "2025-02-13T19:34:49.949506Z",
     "iopub.status.idle": "2025-02-13T19:34:49.954317Z",
     "shell.execute_reply": "2025-02-13T19:34:49.953348Z"
    },
    "papermill": {
     "duration": 0.014459,
     "end_time": "2025-02-13T19:34:49.955803",
     "exception": false,
     "start_time": "2025-02-13T19:34:49.941344",
     "status": "completed"
    },
    "tags": []
   },
   "outputs": [
    {
     "name": "stdout",
     "output_type": "stream",
     "text": [
      "Labels:  [True, True, False, False, False]\n"
     ]
    }
   ],
   "source": [
    "print(\"Labels: \", list(some_labels))"
   ]
  },
  {
   "cell_type": "code",
   "execution_count": 19,
   "id": "b9feb35f",
   "metadata": {
    "execution": {
     "iopub.execute_input": "2025-02-13T19:34:49.971113Z",
     "iopub.status.busy": "2025-02-13T19:34:49.970804Z",
     "iopub.status.idle": "2025-02-13T19:34:49.977764Z",
     "shell.execute_reply": "2025-02-13T19:34:49.976921Z"
    },
    "papermill": {
     "duration": 0.016146,
     "end_time": "2025-02-13T19:34:49.979214",
     "exception": false,
     "start_time": "2025-02-13T19:34:49.963068",
     "status": "completed"
    },
    "tags": []
   },
   "outputs": [
    {
     "data": {
      "text/plain": [
       "0.39184047937441757"
      ]
     },
     "execution_count": 19,
     "metadata": {},
     "output_type": "execute_result"
    }
   ],
   "source": [
    "from sklearn.metrics import mean_squared_error\n",
    "job_predictions = lin_reg.predict(job_data_prepared)\n",
    "lin_mse = mean_squared_error(job_labels, job_predictions)\n",
    "lin_rmse = np.sqrt(lin_mse)\n",
    "lin_rmse"
   ]
  },
  {
   "cell_type": "markdown",
   "id": "c4a0e625",
   "metadata": {
    "papermill": {
     "duration": 0.006994,
     "end_time": "2025-02-13T19:34:49.993622",
     "exception": false,
     "start_time": "2025-02-13T19:34:49.986628",
     "status": "completed"
    },
    "tags": []
   },
   "source": [
    "## Decision Tree Regression"
   ]
  },
  {
   "cell_type": "code",
   "execution_count": 20,
   "id": "d03a1de0",
   "metadata": {
    "execution": {
     "iopub.execute_input": "2025-02-13T19:34:50.009037Z",
     "iopub.status.busy": "2025-02-13T19:34:50.008692Z",
     "iopub.status.idle": "2025-02-13T19:34:50.502443Z",
     "shell.execute_reply": "2025-02-13T19:34:50.501411Z"
    },
    "papermill": {
     "duration": 0.503264,
     "end_time": "2025-02-13T19:34:50.503986",
     "exception": false,
     "start_time": "2025-02-13T19:34:50.000722",
     "status": "completed"
    },
    "tags": []
   },
   "outputs": [
    {
     "data": {
      "text/html": [
       "<style>#sk-container-id-2 {color: black;background-color: white;}#sk-container-id-2 pre{padding: 0;}#sk-container-id-2 div.sk-toggleable {background-color: white;}#sk-container-id-2 label.sk-toggleable__label {cursor: pointer;display: block;width: 100%;margin-bottom: 0;padding: 0.3em;box-sizing: border-box;text-align: center;}#sk-container-id-2 label.sk-toggleable__label-arrow:before {content: \"▸\";float: left;margin-right: 0.25em;color: #696969;}#sk-container-id-2 label.sk-toggleable__label-arrow:hover:before {color: black;}#sk-container-id-2 div.sk-estimator:hover label.sk-toggleable__label-arrow:before {color: black;}#sk-container-id-2 div.sk-toggleable__content {max-height: 0;max-width: 0;overflow: hidden;text-align: left;background-color: #f0f8ff;}#sk-container-id-2 div.sk-toggleable__content pre {margin: 0.2em;color: black;border-radius: 0.25em;background-color: #f0f8ff;}#sk-container-id-2 input.sk-toggleable__control:checked~div.sk-toggleable__content {max-height: 200px;max-width: 100%;overflow: auto;}#sk-container-id-2 input.sk-toggleable__control:checked~label.sk-toggleable__label-arrow:before {content: \"▾\";}#sk-container-id-2 div.sk-estimator input.sk-toggleable__control:checked~label.sk-toggleable__label {background-color: #d4ebff;}#sk-container-id-2 div.sk-label input.sk-toggleable__control:checked~label.sk-toggleable__label {background-color: #d4ebff;}#sk-container-id-2 input.sk-hidden--visually {border: 0;clip: rect(1px 1px 1px 1px);clip: rect(1px, 1px, 1px, 1px);height: 1px;margin: -1px;overflow: hidden;padding: 0;position: absolute;width: 1px;}#sk-container-id-2 div.sk-estimator {font-family: monospace;background-color: #f0f8ff;border: 1px dotted black;border-radius: 0.25em;box-sizing: border-box;margin-bottom: 0.5em;}#sk-container-id-2 div.sk-estimator:hover {background-color: #d4ebff;}#sk-container-id-2 div.sk-parallel-item::after {content: \"\";width: 100%;border-bottom: 1px solid gray;flex-grow: 1;}#sk-container-id-2 div.sk-label:hover label.sk-toggleable__label {background-color: #d4ebff;}#sk-container-id-2 div.sk-serial::before {content: \"\";position: absolute;border-left: 1px solid gray;box-sizing: border-box;top: 0;bottom: 0;left: 50%;z-index: 0;}#sk-container-id-2 div.sk-serial {display: flex;flex-direction: column;align-items: center;background-color: white;padding-right: 0.2em;padding-left: 0.2em;position: relative;}#sk-container-id-2 div.sk-item {position: relative;z-index: 1;}#sk-container-id-2 div.sk-parallel {display: flex;align-items: stretch;justify-content: center;background-color: white;position: relative;}#sk-container-id-2 div.sk-item::before, #sk-container-id-2 div.sk-parallel-item::before {content: \"\";position: absolute;border-left: 1px solid gray;box-sizing: border-box;top: 0;bottom: 0;left: 50%;z-index: -1;}#sk-container-id-2 div.sk-parallel-item {display: flex;flex-direction: column;z-index: 1;position: relative;background-color: white;}#sk-container-id-2 div.sk-parallel-item:first-child::after {align-self: flex-end;width: 50%;}#sk-container-id-2 div.sk-parallel-item:last-child::after {align-self: flex-start;width: 50%;}#sk-container-id-2 div.sk-parallel-item:only-child::after {width: 0;}#sk-container-id-2 div.sk-dashed-wrapped {border: 1px dashed gray;margin: 0 0.4em 0.5em 0.4em;box-sizing: border-box;padding-bottom: 0.4em;background-color: white;}#sk-container-id-2 div.sk-label label {font-family: monospace;font-weight: bold;display: inline-block;line-height: 1.2em;}#sk-container-id-2 div.sk-label-container {text-align: center;}#sk-container-id-2 div.sk-container {/* jupyter's `normalize.less` sets `[hidden] { display: none; }` but bootstrap.min.css set `[hidden] { display: none !important; }` so we also need the `!important` here to be able to override the default hidden behavior on the sphinx rendered scikit-learn.org. See: https://github.com/scikit-learn/scikit-learn/issues/21755 */display: inline-block !important;position: relative;}#sk-container-id-2 div.sk-text-repr-fallback {display: none;}</style><div id=\"sk-container-id-2\" class=\"sk-top-container\"><div class=\"sk-text-repr-fallback\"><pre>DecisionTreeRegressor()</pre><b>In a Jupyter environment, please rerun this cell to show the HTML representation or trust the notebook. <br />On GitHub, the HTML representation is unable to render, please try loading this page with nbviewer.org.</b></div><div class=\"sk-container\" hidden><div class=\"sk-item\"><div class=\"sk-estimator sk-toggleable\"><input class=\"sk-toggleable__control sk-hidden--visually\" id=\"sk-estimator-id-2\" type=\"checkbox\" checked><label for=\"sk-estimator-id-2\" class=\"sk-toggleable__label sk-toggleable__label-arrow\">DecisionTreeRegressor</label><div class=\"sk-toggleable__content\"><pre>DecisionTreeRegressor()</pre></div></div></div></div></div>"
      ],
      "text/plain": [
       "DecisionTreeRegressor()"
      ]
     },
     "execution_count": 20,
     "metadata": {},
     "output_type": "execute_result"
    }
   ],
   "source": [
    "from sklearn.tree import DecisionTreeRegressor\n",
    "\n",
    "tree_reg = DecisionTreeRegressor()\n",
    "tree_reg.fit(job_data_prepared, job_labels)"
   ]
  },
  {
   "cell_type": "code",
   "execution_count": 21,
   "id": "1c906b86",
   "metadata": {
    "execution": {
     "iopub.execute_input": "2025-02-13T19:34:50.519918Z",
     "iopub.status.busy": "2025-02-13T19:34:50.519599Z",
     "iopub.status.idle": "2025-02-13T19:34:50.531472Z",
     "shell.execute_reply": "2025-02-13T19:34:50.530558Z"
    },
    "papermill": {
     "duration": 0.021499,
     "end_time": "2025-02-13T19:34:50.532999",
     "exception": false,
     "start_time": "2025-02-13T19:34:50.511500",
     "status": "completed"
    },
    "tags": []
   },
   "outputs": [
    {
     "name": "stdout",
     "output_type": "stream",
     "text": [
      "Predictions:  [1. 1. 0. 0. 0.]\n"
     ]
    }
   ],
   "source": [
    "some_data = job_data.iloc[:5]\n",
    "some_labels = job_labels.iloc[:5]\n",
    "some_data_prepared = pipeline.transform(some_data)\n",
    "print(\"Predictions: \", tree_reg.predict(some_data_prepared))"
   ]
  },
  {
   "cell_type": "code",
   "execution_count": 22,
   "id": "93a5d815",
   "metadata": {
    "execution": {
     "iopub.execute_input": "2025-02-13T19:34:50.549292Z",
     "iopub.status.busy": "2025-02-13T19:34:50.548963Z",
     "iopub.status.idle": "2025-02-13T19:34:50.554033Z",
     "shell.execute_reply": "2025-02-13T19:34:50.553007Z"
    },
    "papermill": {
     "duration": 0.014649,
     "end_time": "2025-02-13T19:34:50.555480",
     "exception": false,
     "start_time": "2025-02-13T19:34:50.540831",
     "status": "completed"
    },
    "tags": []
   },
   "outputs": [
    {
     "name": "stdout",
     "output_type": "stream",
     "text": [
      "Labels:  [True, True, False, False, False]\n"
     ]
    }
   ],
   "source": [
    "print(\"Labels: \", list(some_labels))"
   ]
  },
  {
   "cell_type": "code",
   "execution_count": 23,
   "id": "caef320e",
   "metadata": {
    "execution": {
     "iopub.execute_input": "2025-02-13T19:34:50.571603Z",
     "iopub.status.busy": "2025-02-13T19:34:50.571238Z",
     "iopub.status.idle": "2025-02-13T19:34:50.580908Z",
     "shell.execute_reply": "2025-02-13T19:34:50.580072Z"
    },
    "papermill": {
     "duration": 0.019257,
     "end_time": "2025-02-13T19:34:50.582289",
     "exception": false,
     "start_time": "2025-02-13T19:34:50.563032",
     "status": "completed"
    },
    "tags": []
   },
   "outputs": [
    {
     "data": {
      "text/plain": [
       "0.0"
      ]
     },
     "execution_count": 23,
     "metadata": {},
     "output_type": "execute_result"
    }
   ],
   "source": [
    "from sklearn.metrics import mean_squared_error #this model overfits \n",
    "job_predictions = tree_reg.predict(job_data_prepared) \n",
    "tree_mse = mean_squared_error(job_labels, job_predictions)\n",
    "tree_rmse = np.sqrt(tree_mse)\n",
    "tree_rmse"
   ]
  },
  {
   "cell_type": "markdown",
   "id": "9fdaf31f",
   "metadata": {
    "papermill": {
     "duration": 0.007222,
     "end_time": "2025-02-13T19:34:50.597197",
     "exception": false,
     "start_time": "2025-02-13T19:34:50.589975",
     "status": "completed"
    },
    "tags": []
   },
   "source": [
    "# Running Test Sample"
   ]
  },
  {
   "cell_type": "code",
   "execution_count": 24,
   "id": "21b46c25",
   "metadata": {
    "execution": {
     "iopub.execute_input": "2025-02-13T19:34:50.613483Z",
     "iopub.status.busy": "2025-02-13T19:34:50.613098Z",
     "iopub.status.idle": "2025-02-13T19:34:50.632877Z",
     "shell.execute_reply": "2025-02-13T19:34:50.631900Z"
    },
    "papermill": {
     "duration": 0.029709,
     "end_time": "2025-02-13T19:34:50.634485",
     "exception": false,
     "start_time": "2025-02-13T19:34:50.604776",
     "status": "completed"
    },
    "tags": []
   },
   "outputs": [
    {
     "data": {
      "text/plain": [
       "0.5686416212459071"
      ]
     },
     "execution_count": 24,
     "metadata": {},
     "output_type": "execute_result"
    }
   ],
   "source": [
    "data = test_set.drop(\"target\", axis=1)\n",
    "labels = test_set[\"target\"].copy()\n",
    "data_prepared = pipeline.transform(data)\n",
    "\n",
    "# Decision Tree Model\n",
    "job_predictions_tree = tree_reg.predict(data_prepared)\n",
    "tree_mse = mean_squared_error(labels, job_predictions_tree)\n",
    "tree_rmse = np.sqrt(tree_mse)\n",
    "tree_rmse"
   ]
  },
  {
   "cell_type": "code",
   "execution_count": 25,
   "id": "693411da",
   "metadata": {
    "execution": {
     "iopub.execute_input": "2025-02-13T19:34:50.651026Z",
     "iopub.status.busy": "2025-02-13T19:34:50.650723Z",
     "iopub.status.idle": "2025-02-13T19:34:50.657559Z",
     "shell.execute_reply": "2025-02-13T19:34:50.656666Z"
    },
    "papermill": {
     "duration": 0.016687,
     "end_time": "2025-02-13T19:34:50.658946",
     "exception": false,
     "start_time": "2025-02-13T19:34:50.642259",
     "status": "completed"
    },
    "tags": []
   },
   "outputs": [
    {
     "data": {
      "text/plain": [
       "0.40670718163148517"
      ]
     },
     "execution_count": 25,
     "metadata": {},
     "output_type": "execute_result"
    }
   ],
   "source": [
    "#Linear Regression Model\n",
    "job_predictions_lin = lin_reg.predict(data_prepared)\n",
    "lin_mse = mean_squared_error(labels, job_predictions_lin)\n",
    "lin_rmse = np.sqrt(lin_mse)\n",
    "lin_rmse"
   ]
  }
 ],
 "metadata": {
  "kaggle": {
   "accelerator": "none",
   "dataSources": [
    {
     "datasetId": 6654450,
     "sourceId": 10732763,
     "sourceType": "datasetVersion"
    }
   ],
   "dockerImageVersionId": 30886,
   "isGpuEnabled": false,
   "isInternetEnabled": true,
   "language": "python",
   "sourceType": "notebook"
  },
  "kernelspec": {
   "display_name": "Python 3",
   "language": "python",
   "name": "python3"
  },
  "language_info": {
   "codemirror_mode": {
    "name": "ipython",
    "version": 3
   },
   "file_extension": ".py",
   "mimetype": "text/x-python",
   "name": "python",
   "nbconvert_exporter": "python",
   "pygments_lexer": "ipython3",
   "version": "3.10.12"
  },
  "papermill": {
   "default_parameters": {},
   "duration": 6.922682,
   "end_time": "2025-02-13T19:34:51.285867",
   "environment_variables": {},
   "exception": null,
   "input_path": "__notebook__.ipynb",
   "output_path": "__notebook__.ipynb",
   "parameters": {},
   "start_time": "2025-02-13T19:34:44.363185",
   "version": "2.6.0"
  }
 },
 "nbformat": 4,
 "nbformat_minor": 5
}
